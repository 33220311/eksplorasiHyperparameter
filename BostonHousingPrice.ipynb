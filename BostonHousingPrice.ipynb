{
  "nbformat": 4,
  "nbformat_minor": 0,
  "metadata": {
    "colab": {
      "name": "BostonHousingPrice.ipynb",
      "provenance": []
    },
    "kernelspec": {
      "name": "python3",
      "display_name": "Python 3"
    },
    "language_info": {
      "name": "python"
    }
  },
  "cells": [
    {
      "cell_type": "markdown",
      "source": [
        "Source : https://www.kaggle.com/code/arunkumarramanan/tensorflow-tutorial-and-housing-price-prediction/notebook"
      ],
      "metadata": {
        "id": "93gud7QQsK2t"
      }
    },
    {
      "cell_type": "markdown",
      "source": [
        "Membuat dan melatih Fully connected NN untuk melakukan memprediksi harga rumah berdasarkan dataset Boston housing dataset yang disediakan Keras. Boston housing dataset terdiri dari 13 fitur 506 data. Output dari prediksi adalah suatu nilai kontinu."
      ],
      "metadata": {
        "id": "GfxEhQJdffQQ"
      }
    },
    {
      "cell_type": "markdown",
      "source": [
        "### 1. Load/Import Library yang diperlukan"
      ],
      "metadata": {
        "id": "-bI3k0tJdfVF"
      }
    },
    {
      "cell_type": "code",
      "execution_count": 85,
      "metadata": {
        "id": "0KYuLlb5kZ1i"
      },
      "outputs": [],
      "source": [
        "# TensorFlow and tf.keras\n",
        "import tensorflow as tf\n",
        "from tensorflow import keras\n",
        "from tensorflow.keras.layers import Conv2D, MaxPooling2D, Dropout, Flatten, Dense"
      ]
    },
    {
      "cell_type": "code",
      "source": [
        "# Commonly used modules\n",
        "import numpy as np\n",
        "import os\n",
        "import sys"
      ],
      "metadata": {
        "id": "x7rWBc60q_QF"
      },
      "execution_count": 86,
      "outputs": []
    },
    {
      "cell_type": "code",
      "source": [
        "# Images, plots, display, and visualization\n",
        "import matplotlib.pyplot as plt\n",
        "import pandas as pd\n",
        "import seaborn as sns\n",
        "import cv2\n",
        "import IPython\n",
        "from six.moves import urllib"
      ],
      "metadata": {
        "id": "xnIGZOcgq_kl"
      },
      "execution_count": 87,
      "outputs": []
    },
    {
      "cell_type": "markdown",
      "source": [
        "### 2. Load data dari Keras"
      ],
      "metadata": {
        "id": "Ds80jhnsd6hS"
      }
    },
    {
      "cell_type": "code",
      "source": [
        "#load data\n",
        "(train_features, train_labels), (test_features, test_labels) = keras.datasets.boston_housing.load_data()"
      ],
      "metadata": {
        "id": "1LIcHRyJrTXL"
      },
      "execution_count": 88,
      "outputs": []
    },
    {
      "cell_type": "markdown",
      "source": [
        "### 3. Eksplorasi data"
      ],
      "metadata": {
        "id": "k9556TeeeCjX"
      }
    },
    {
      "cell_type": "code",
      "source": [
        "# get per-feature statistics (mean, standard deviation) from the training set to normalize by\n",
        "train_mean = np.mean(train_features, axis=0)\n",
        "train_std = np.std(train_features, axis=0)\n",
        "train_features = (train_features - train_mean) / train_std"
      ],
      "metadata": {
        "id": "EVf07ugdrVP5"
      },
      "execution_count": 89,
      "outputs": []
    },
    {
      "cell_type": "markdown",
      "source": [
        "### 4. Buat model neural network \n",
        "Pada tahapan ini ditentukan jumlah layer, jumlah hidden unit pada tiap layer, dan fungsi aktivasi pada tiap layer"
      ],
      "metadata": {
        "id": "eCCBkVIceNrs"
      }
    },
    {
      "cell_type": "code",
      "source": [
        "def build_model():\n",
        "    model = keras.Sequential([\n",
        "        Dense(100, activation=tf.nn.relu, input_shape=[len(train_features[0])]),\n",
        "        Dense(100, activation=tf.nn.relu),\n",
        "        Dense(100, activation=tf.nn.relu),\n",
        "        Dense(100, activation=tf.nn.relu),\n",
        "        Dense(100, activation=tf.nn.relu),\n",
        "        Dense(100, activation=tf.nn.relu),\n",
        "        #Dense(100, activation=tf.nn.relu),\n",
        "        #Dense(100, activation=tf.nn.relu),\n",
        "        Dense(1)\n",
        "    ])\n",
        "\n",
        "    model.compile(optimizer=tf.keras.optimizers.Adam(), \n",
        "                  loss='huber',\n",
        "                  metrics=['mae', 'mse'])\n",
        "    return model"
      ],
      "metadata": {
        "id": "2S15M6Ebrdij"
      },
      "execution_count": 90,
      "outputs": []
    },
    {
      "cell_type": "code",
      "source": [
        "# this helps makes our output less verbose but still shows progress\n",
        "class PrintDot(keras.callbacks.Callback):\n",
        "    def on_epoch_end(self, epoch, logs):\n",
        "        if epoch % 100 == 0: print('')\n",
        "        print('.', end='')"
      ],
      "metadata": {
        "id": "I3ZMcXHOrpX3"
      },
      "execution_count": 91,
      "outputs": []
    },
    {
      "cell_type": "markdown",
      "source": [
        "### 5. Latih model"
      ],
      "metadata": {
        "id": "AYEkkuVPekrR"
      }
    },
    {
      "cell_type": "code",
      "source": [
        "model = build_model()\n",
        "\n",
        "early_stop = keras.callbacks.EarlyStopping(monitor='val_loss', patience=50)\n",
        "history = model.fit(train_features, train_labels, epochs=1000, verbose=0, validation_split = 0.1,\n",
        "                    callbacks=[early_stop, PrintDot()])"
      ],
      "metadata": {
        "colab": {
          "base_uri": "https://localhost:8080/"
        },
        "id": "mafAvTxirrvl",
        "outputId": "17a7e56c-1af3-4421-ff72-b8427c5dfdce"
      },
      "execution_count": 92,
      "outputs": [
        {
          "output_type": "stream",
          "name": "stdout",
          "text": [
            "\n",
            "....................................................................................................\n",
            "....................................................................................................\n",
            "........"
          ]
        }
      ]
    },
    {
      "cell_type": "code",
      "source": [
        "hist = pd.DataFrame(history.history)\n",
        "hist['epoch'] = history.epoch"
      ],
      "metadata": {
        "id": "riP7I9IirvOT"
      },
      "execution_count": 93,
      "outputs": []
    },
    {
      "cell_type": "code",
      "source": [
        "#hist"
      ],
      "metadata": {
        "id": "qbSL3f8LtFpy"
      },
      "execution_count": 94,
      "outputs": []
    },
    {
      "cell_type": "code",
      "source": [
        "# show RMSE measure to compare to Kaggle leaderboard on https://www.kaggle.com/c/boston-housing/leaderboard\n",
        "rmse_final = np.sqrt(float(hist['val_mse'].tail(1)))\n",
        "print()\n",
        "print('Final Root Mean Square Error on validation set: {}'.format(round(rmse_final, 3)))"
      ],
      "metadata": {
        "colab": {
          "base_uri": "https://localhost:8080/"
        },
        "id": "M0bRnCI5rzjK",
        "outputId": "3a9bf67c-cb7b-4605-fa24-a0517a930113"
      },
      "execution_count": 95,
      "outputs": [
        {
          "output_type": "stream",
          "name": "stdout",
          "text": [
            "\n",
            "Final Root Mean Square Error on validation set: 2.093\n"
          ]
        }
      ]
    },
    {
      "cell_type": "markdown",
      "source": [
        "### 6. Visualisasi hasil pelatihan dan validasi"
      ],
      "metadata": {
        "id": "NCrlNxC-exrA"
      }
    },
    {
      "cell_type": "code",
      "source": [
        "def plot_history():\n",
        "    plt.figure()\n",
        "    plt.xlabel('Epoch')\n",
        "    plt.ylabel('Mean Square Error [Thousand Dollars$^2$]')\n",
        "    plt.plot(hist['epoch'], hist['mse'], label='Train Error')\n",
        "    plt.plot(hist['epoch'], hist['val_mse'], label = 'Val Error')\n",
        "    plt.legend()\n",
        "    plt.ylim([0,50])"
      ],
      "metadata": {
        "id": "PY0BCsGKr36q"
      },
      "execution_count": 96,
      "outputs": []
    },
    {
      "cell_type": "code",
      "source": [
        "plot_history()"
      ],
      "metadata": {
        "colab": {
          "base_uri": "https://localhost:8080/",
          "height": 283
        },
        "id": "tcZeM6lDr5jq",
        "outputId": "5a02f4fb-cf85-40cb-ad4e-3068aaf917a5"
      },
      "execution_count": 97,
      "outputs": [
        {
          "output_type": "display_data",
          "data": {
            "text/plain": [
              "<Figure size 432x288 with 1 Axes>"
            ],
            "image/png": "[encoded data removed]"
          },
          "metadata": {
            "needs_background": "light"
          }
        }
      ]
    },
    {
      "cell_type": "markdown",
      "source": [
        "### 7. Evaluasi hasil prediksi terhadap data test\n",
        "Mencoba memprediksi data yang yang belum pernah dilihat menggunakan model yang sudah dilatih sebelumnya."
      ],
      "metadata": {
        "id": "ETmvmbE-sDWT"
      }
    },
    {
      "cell_type": "code",
      "source": [
        "test_features_norm = (test_features - train_mean) / train_std\n",
        "mse, _, _ = model.evaluate(test_features_norm, test_labels)\n",
        "rmse = np.sqrt(mse)\n",
        "print('Root Mean Square Error on test set: {}'.format(round(rmse, 3)))"
      ],
      "metadata": {
        "colab": {
          "base_uri": "https://localhost:8080/"
        },
        "id": "O2GTwhhCr8ut",
        "outputId": "bc737b87-7123-4190-f114-f5de0e33f0cc"
      },
      "execution_count": 98,
      "outputs": [
        {
          "output_type": "stream",
          "name": "stdout",
          "text": [
            "4/4 [==============================] - 0s 4ms/step - loss: 1.6215 - mae: 2.0726 - mse: 10.1871\n",
            "Root Mean Square Error on test set: 1.273\n"
          ]
        }
      ]
    }
  ]
}